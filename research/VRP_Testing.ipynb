{
 "cells": [
  {
   "cell_type": "code",
   "execution_count": null,
   "metadata": {},
   "outputs": [],
   "source": [
    "import pandas as pd\n",
    "import pandas as pd\n",
    "import numpy as np\n",
    "import time\n",
    "from src.logger import logging\n",
    "from src.utils.helper import get_osrm_distance\n",
    "from ortools.constraint_solver import pywrapcp, routing_enums_pb2"
   ]
  },
  {
   "cell_type": "code",
   "execution_count": 2,
   "metadata": {},
   "outputs": [],
   "source": [
    "def create_osrm_distance_mat(df):\n",
    "    try:\n",
    "        # Validate required columns\n",
    "        required_columns = {\"ADDRESS\", \"LATITUDE\", \"LONGITUDE\"}\n",
    "        if not required_columns.issubset(df.columns):\n",
    "            logging.error(\"Missing required columns in CSV file.\")\n",
    "            raise ValueError(\"CSV file must contain 'ADDRESS', 'LATITUDE', and 'LONGITUDE' columns\")\n",
    "        \n",
    "        # Remove duplicates and extract necessary data\n",
    "        unique_locations_df = df.drop_duplicates(subset=[\"ADDRESS\"])[[\"ADDRESS\", \"LATITUDE\", \"LONGITUDE\"]]\n",
    "        location_names = unique_locations_df[\"ADDRESS\"].to_list()\n",
    "        locations_gps = list(zip(unique_locations_df[\"LATITUDE\"], unique_locations_df[\"LONGITUDE\"]))\n",
    "        \n",
    "        num_locations = len(location_names)\n",
    "        distance_matrix = np.zeros((num_locations, num_locations))\n",
    "        \n",
    "        logging.info(f\"Processing {num_locations} locations for distance matrix computation.\")\n",
    "        \n",
    "        # Compute distance matrix\n",
    "        for i in range(num_locations):\n",
    "            for j in range(i + 1, num_locations):  # Avoid duplicate calculations\n",
    "                try:\n",
    "                    dis = get_osrm_distance(locations_gps[i], locations_gps[j])\n",
    "                    dis = round(dis,2)\n",
    "                    distance_matrix[i, j] = dis\n",
    "                    distance_matrix[j, i] = dis\n",
    "                    time.sleep(0.2)  # Prevent rate limiting\n",
    "                except Exception as e:\n",
    "                    logging.error(f\"Error computing distance between {location_names[i]} and {location_names[j]}: {str(e)}\")\n",
    "                    distance_matrix[i, j] = distance_matrix[j, i] = float('inf')  # Set as unreachable if an error occurs\n",
    "        \n",
    "        logging.info(\"Distance matrix computation completed successfully.\")\n",
    "        return distance_matrix, location_names\n",
    "    \n",
    "    except Exception as e:\n",
    "        logging.critical(f\"Unexpected error in distance matrix creation: {str(e)}\")\n",
    "        raise"
   ]
  },
  {
   "cell_type": "code",
   "execution_count": 3,
   "metadata": {},
   "outputs": [],
   "source": [
    "def create_data_model(\n",
    "    distance_matrix=None,\n",
    "    locations=None,\n",
    "    depot=0,\n",
    "    shop_demands=None,\n",
    "    vehicle_capacities=None,\n",
    "    vehicle_restricted_locations=None,\n",
    "    vehicle_restricted_roads=None,\n",
    "    same_route_locations=None,\n",
    "):\n",
    "    return {\n",
    "        \"distance_matrix\": distance_matrix or [],\n",
    "        \"locations\": locations or [],\n",
    "        \"depot\": depot,\n",
    "        \"shop_demands\": shop_demands or {},\n",
    "        \"vehicle_capacities\": vehicle_capacities or {},\n",
    "        \"vehicle_restricted_locations\": vehicle_restricted_locations or {},\n",
    "        \"vehicle_restricted_roads\": vehicle_restricted_roads or {},\n",
    "        \"same_route_locations\": same_route_locations or [],\n",
    "    }"
   ]
  },
  {
   "cell_type": "code",
   "execution_count": 5,
   "metadata": {},
   "outputs": [],
   "source": [
    "def vrp_manager(data):\n",
    "    try:\n",
    "        logging.info(\"Initializing TSP Manager with depot location.\")\n",
    "        distance_matrix = data.get('distance_matrix')\n",
    "        depot = data.get('depot')\n",
    "        num_vehicles = len(data.get('vehicle_capacities'))\n",
    "        manager = pywrapcp.RoutingIndexManager(\n",
    "            len(distance_matrix), num_vehicles, depot\n",
    "        ) \n",
    "        \n",
    "        logging.info(\"TSP Manager successfully created.\")\n",
    "        return manager\n",
    "    except ValueError as ve:\n",
    "        logging.error(f\"Depot location not found in locations list: {str(ve)}\")\n",
    "    except Exception as e:\n",
    "        logging.critical(f\"Unexpected error in TSP Manager creation: {str(e)}\")"
   ]
  },
  {
   "cell_type": "code",
   "execution_count": null,
   "metadata": {},
   "outputs": [],
   "source": [
    "def create_vehicle_cost_callback(vehicle_id, data, manager):\n",
    "    \"\"\"\n",
    "    Returns a transit callback that accounts for:\n",
    "    - Vehicle-specific restricted roads\n",
    "    - General restricted roads\n",
    "    - Default distance from the distance matrix\n",
    "    \"\"\"\n",
    "\n",
    "    def transit_callback(from_index, to_index):\n",
    "        from_node = manager.IndexToNode(from_index)\n",
    "        to_node = manager.IndexToNode(to_index)\n",
    "\n",
    "        # Vehicle-specific restricted roads\n",
    "        if (from_node, to_node) in data.get(\"vehicle_restricted_roads\", {}).get(vehicle_id, []):\n",
    "            logging.warning(f\"Vehicle {vehicle_id} restricted from traveling {from_node} -> {to_node}. Applying high cost.\")\n",
    "            return int(1e6)  # High penalty cost\n",
    "\n",
    "        # General restricted roads\n",
    "        if (from_node, to_node) in data.get(\"restricted_roads\", []):\n",
    "            logging.warning(f\"Route {from_node} -> {to_node} is generally restricted. Applying high cost.\")\n",
    "            return int(1e6)  # High penalty cost\n",
    "\n",
    "        # Default travel cost from distance matrix\n",
    "        return int(data[\"distance_matrix\"][from_node][to_node])\n",
    "\n",
    "    return transit_callback\n",
    "\n",
    "\n",
    "def create_demand_callback(data, manager):\n",
    "    \"\"\"Returns a callback function to fetch shop demands correctly.\"\"\"\n",
    "\n",
    "    def demand_callback(from_index):\n",
    "        \"\"\"Fetches demand value for a given location index.\"\"\"\n",
    "        from_node = manager.IndexToNode(from_index)\n",
    "        return data[\"shop_demands\"].get(data[\"locations\"][from_node], 0)  \n",
    "\n",
    "    return demand_callback\n",
    "\n",
    "\n",
    "\n",
    "def add_capacity_constraints(routing, manager, data):\n",
    "    \"\"\"Ensures vehicle capacity constraints are applied correctly.\"\"\"\n",
    "    \n",
    "    demand_callback = create_demand_callback(data, manager)\n",
    "    demand_callback_index = routing.RegisterUnaryTransitCallback(demand_callback)\n",
    "\n",
    "    routing.AddDimensionWithVehicleCapacity(\n",
    "        demand_callback_index,\n",
    "        0,  # No slack\n",
    "        list(data[\"vehicle_capacities\"].values()),  \n",
    "        True,  # Start cumul to zero\n",
    "        \"Capacity\",\n",
    "    )\n",
    "\n",
    "    logging.info(\"Capacity constraints added successfully.\")\n",
    "\n",
    "\n",
    "    logging.info(\"Capacity constraints added successfully.\")\n",
    "\n",
    "\n",
    "def add_distance_constraints(routing, transit_callback_index):\n",
    "    \"\"\"\n",
    "    Adds distance constraints to prevent exceeding a maximum travel distance.\n",
    "    \"\"\"\n",
    "    dimension_name = \"Distance\"\n",
    "    routing.AddDimension(\n",
    "        transit_callback_index,\n",
    "        0,  # No slack\n",
    "        3000,  # Default vehicle max travel distance\n",
    "        True,  # Start cumul to zero\n",
    "        dimension_name,\n",
    "    )\n",
    "\n",
    "    distance_dimension = routing.GetDimensionOrDie(dimension_name)\n",
    "    distance_dimension.SetGlobalSpanCostCoefficient(100)\n",
    "    \n",
    "    logging.info(\"Distance constraints added successfully.\")\n",
    "\n",
    "\n",
    "def add_same_route_constraints(routing, manager, data):\n",
    "    \"\"\"\n",
    "    Ensures that paired locations (pickup & delivery) are assigned to the same vehicle.\n",
    "    If no such constraints exist, the function safely skips execution.\n",
    "    \"\"\"\n",
    "    same_route_locations = data.get(\"same_route_locations\", [])\n",
    "    if not same_route_locations:\n",
    "        logging.info(\"No same-route constraints provided. Skipping this step.\")\n",
    "        return\n",
    "\n",
    "    for request in same_route_locations:\n",
    "        try:\n",
    "            pickup_index = manager.NodeToIndex(request[0])\n",
    "            delivery_index = manager.NodeToIndex(request[1])\n",
    "            routing.solver().Add(\n",
    "                routing.VehicleVar(pickup_index) == routing.VehicleVar(delivery_index)\n",
    "            )\n",
    "            logging.info(f\"Same-route constraint added: {request[0]} <-> {request[1]}\")\n",
    "        except Exception as e:\n",
    "            logging.error(f\"Error adding same-route constraint for {request}: {str(e)}\")\n",
    "\n",
    "\n",
    "def add_vehicle_restrictions(routing, manager, data):\n",
    "    \"\"\"\n",
    "    Prevents specific vehicles from visiting certain locations.\n",
    "    If no such restrictions exist, the function safely skips execution.\n",
    "    \"\"\"\n",
    "    vehicle_restricted_locations = data.get(\"vehicle_restricted_locations\", {})\n",
    "    if not vehicle_restricted_locations:\n",
    "        logging.info(\"No vehicle-specific restricted locations provided. Skipping this step.\")\n",
    "        return\n",
    "\n",
    "    for vehicle_id, locations in vehicle_restricted_locations.items():\n",
    "        for location in locations:\n",
    "            try:\n",
    "                index = manager.NodeToIndex(location)\n",
    "                routing.solver().Add(routing.VehicleVar(index) != vehicle_id)\n",
    "                logging.info(f\"Vehicle {vehicle_id} restricted from visiting location {location}.\")\n",
    "            except Exception as e:\n",
    "                logging.error(f\"Error restricting vehicle {vehicle_id} from location {location}: {str(e)}\")\n",
    "\n",
    "\n",
    "def solve_vrp(data):\n",
    "    \"\"\"\n",
    "    Solves the Vehicle Routing Problem (VRP) given distance matrix, demands, and constraints.\n",
    "    \"\"\"\n",
    "\n",
    "    # Initialize OR-Tools Manager & Routing Model\n",
    "    manager = vrp_manager(data=data)\n",
    "    routing = pywrapcp.RoutingModel(manager)\n",
    "\n",
    "    num_vehicles = len(data.get(\"vehicle_capacities\", []))\n",
    "    if num_vehicles == 0:\n",
    "        logging.error(\"No vehicles available for VRP.\")\n",
    "        raise ValueError(\"No vehicles available for VRP.\")\n",
    "\n",
    "    # Register vehicle-specific cost callbacks\n",
    "    for vehicle_id in range(num_vehicles):\n",
    "        transit_callback = create_vehicle_cost_callback(vehicle_id, data, manager)\n",
    "        transit_callback_index = routing.RegisterTransitCallback(transit_callback)\n",
    "        routing.SetArcCostEvaluatorOfVehicle(transit_callback_index, vehicle_id)\n",
    "\n",
    "    # Apply constraints\n",
    "    add_capacity_constraints(routing, manager, data)\n",
    "    add_distance_constraints(routing, transit_callback_index)\n",
    "    add_same_route_constraints(routing, manager, data)\n",
    "    add_vehicle_restrictions(routing, manager, data)\n",
    "\n",
    "    # Configure search parameters\n",
    "    search_parameters = pywrapcp.DefaultRoutingSearchParameters()\n",
    "    search_parameters.first_solution_strategy = (\n",
    "        routing_enums_pb2.FirstSolutionStrategy.PARALLEL_CHEAPEST_INSERTION\n",
    "    )\n",
    "\n",
    "    logging.info(\"Solving VRP...\")\n",
    "    solution = routing.SolveWithParameters(search_parameters)\n",
    "\n",
    "    if solution:\n",
    "        logging.info(\"VRP Solution Found!\")\n",
    "    else:\n",
    "        logging.warning(\"No solution found for VRP.\")\n",
    "\n",
    "    return manager, routing, solution\n"
   ]
  },
  {
   "cell_type": "code",
   "execution_count": null,
   "metadata": {},
   "outputs": [],
   "source": [
    "def get_vrp_solution(data):\n",
    "    \"\"\"\n",
    "    Extracts solution details for VRP and returns structured route paths.\n",
    "    \n",
    "    Returns:\n",
    "        dict: Containing each vehicle's route details with distance & load.\n",
    "    \"\"\"\n",
    "    \n",
    "    manager, routing, solution = solve_vrp(data=data)\n",
    "\n",
    "    if not solution:\n",
    "        logging.error(\"No solution found!\")\n",
    "        return {\"message\": \"No solution found!\"}\n",
    "\n",
    "    total_distance = 0\n",
    "    total_load = 0\n",
    "    routes = {}\n",
    "    \n",
    "    num_vehicles = len(data.get('vehicle_capacities'))\n",
    "\n",
    "    for vehicle_id in range(num_vehicles):\n",
    "        index = routing.Start(vehicle_id)\n",
    "        route_path = []\n",
    "        route_distance = 0\n",
    "        route_load = 0\n",
    "        vehicle_details = {\n",
    "            \"vehicle_id\": vehicle_id,\n",
    "            \"route\": [],\n",
    "            \"total_distance\": 0,\n",
    "            \"total_load\": 0\n",
    "        }\n",
    "\n",
    "        while not routing.IsEnd(index):\n",
    "            node_index = manager.IndexToNode(index)\n",
    "            location_name = data['locations'][node_index]  \n",
    "            demand = data['shop_demands'].get(location_name, 0)  \n",
    "            route_load += demand  \n",
    "\n",
    "            route_path.append({\n",
    "                \"location\": location_name,  \n",
    "                \"current_load\": route_load\n",
    "            })\n",
    "            \n",
    "            previous_index = index\n",
    "            index = solution.Value(routing.NextVar(index))\n",
    "            route_distance += routing.GetArcCostForVehicle(previous_index, index, vehicle_id)\n",
    "\n",
    "        # Add last depot stop\n",
    "        route_path.append({\"location\": data['locations'][manager.IndexToNode(index)], \"current_load\": route_load})\n",
    "        \n",
    "        # Store route details\n",
    "        vehicle_details[\"route\"] = route_path\n",
    "        vehicle_details[\"total_distance\"] = route_distance\n",
    "        vehicle_details[\"total_load\"] = route_load\n",
    "        routes[f\"vehicle_{vehicle_id}\"] = vehicle_details\n",
    "\n",
    "        # Update overall totals\n",
    "        total_distance += route_distance\n",
    "        total_load += route_load\n",
    "\n",
    "        logging.info(f\"Route for vehicle {vehicle_id}: {route_path}\")\n",
    "        logging.info(f\"Distance: {route_distance} km, Load: {route_load}\")\n",
    "\n",
    "    logging.info(f\"Total distance of all routes: {total_distance} km\")\n",
    "    logging.info(f\"Total load of all routes: {total_load}\")\n",
    "\n",
    "    return {\n",
    "        \"routes\": routes,\n",
    "        \"total_distance\": total_distance,\n",
    "        \"total_load\": total_load\n",
    "    }\n"
   ]
  },
  {
   "cell_type": "code",
   "execution_count": 24,
   "metadata": {},
   "outputs": [],
   "source": [
    "df = pd.read_csv('../data/sheets/test.csv')"
   ]
  },
  {
   "cell_type": "code",
   "execution_count": 25,
   "metadata": {},
   "outputs": [
    {
     "data": {
      "text/plain": [
       "Index(['INVOICE NO', 'CUSTOMER NAME', 'ADDRESS', 'Invoice Value', 'Rep',\n",
       "       'LATITUDE', 'LONGITUDE', 'DEMAND'],\n",
       "      dtype='object')"
      ]
     },
     "execution_count": 25,
     "metadata": {},
     "output_type": "execute_result"
    }
   ],
   "source": [
    "df.columns"
   ]
  },
  {
   "cell_type": "code",
   "execution_count": 26,
   "metadata": {},
   "outputs": [],
   "source": [
    "distance_matrix, location_names = create_osrm_distance_mat(df)"
   ]
  },
  {
   "cell_type": "code",
   "execution_count": 27,
   "metadata": {},
   "outputs": [
    {
     "data": {
      "text/plain": [
       "(array([[  0.  ,  53.53, 117.15,  76.13, 102.99, 132.7 ],\n",
       "        [ 53.53,   0.  , 109.71,  79.49, 157.07, 169.49],\n",
       "        [117.15, 109.71,   0.  ,  57.75, 187.27, 169.94],\n",
       "        [ 76.13,  79.49,  57.75,   0.  , 129.61, 112.28],\n",
       "        [102.99, 157.07, 187.27, 129.61,   0.  ,  29.79],\n",
       "        [132.7 , 169.49, 169.94, 112.28,  29.79,   0.  ]]),\n",
       " ['Nochchiyagama',\n",
       "  'Medawachchiya',\n",
       "  'Medirigiriya',\n",
       "  'Dambulla',\n",
       "  'Chilaw',\n",
       "  'Walipennagahamula'])"
      ]
     },
     "execution_count": 27,
     "metadata": {},
     "output_type": "execute_result"
    }
   ],
   "source": [
    "distance_matrix, location_names"
   ]
  },
  {
   "cell_type": "code",
   "execution_count": 28,
   "metadata": {},
   "outputs": [],
   "source": [
    "data = create_data_model(distance_matrix=distance_matrix.tolist(), locations=location_names)"
   ]
  },
  {
   "cell_type": "code",
   "execution_count": 29,
   "metadata": {},
   "outputs": [
    {
     "data": {
      "text/plain": [
       "{'distance_matrix': [[0.0, 53.53, 117.15, 76.13, 102.99, 132.7],\n",
       "  [53.53, 0.0, 109.71, 79.49, 157.07, 169.49],\n",
       "  [117.15, 109.71, 0.0, 57.75, 187.27, 169.94],\n",
       "  [76.13, 79.49, 57.75, 0.0, 129.61, 112.28],\n",
       "  [102.99, 157.07, 187.27, 129.61, 0.0, 29.79],\n",
       "  [132.7, 169.49, 169.94, 112.28, 29.79, 0.0]],\n",
       " 'locations': ['Nochchiyagama',\n",
       "  'Medawachchiya',\n",
       "  'Medirigiriya',\n",
       "  'Dambulla',\n",
       "  'Chilaw',\n",
       "  'Walipennagahamula'],\n",
       " 'depot': 0,\n",
       " 'shop_demands': {},\n",
       " 'vehicle_capacities': {},\n",
       " 'vehicle_restricted_locations': {},\n",
       " 'vehicle_restricted_roads': {},\n",
       " 'same_route_locations': []}"
      ]
     },
     "execution_count": 29,
     "metadata": {},
     "output_type": "execute_result"
    }
   ],
   "source": [
    "data"
   ]
  },
  {
   "cell_type": "code",
   "execution_count": 51,
   "metadata": {},
   "outputs": [
    {
     "name": "stdout",
     "output_type": "stream",
     "text": [
      "Nochchiyagama\n",
      "Medawachchiya\n",
      "Medirigiriya\n",
      "Dambulla\n",
      "Chilaw\n",
      "Walipennagahamula\n",
      "Walipennagahamula\n"
     ]
    }
   ],
   "source": [
    "if \"DEMAND\" in df.columns:\n",
    "    demand_list = df['DEMAND'].to_list()\n",
    "    data['shop_demands'] = {}\n",
    "    for i, loc in enumerate(df['ADDRESS']):\n",
    "        print(loc)\n",
    "        data['shop_demands'][loc] = demand_list[i]"
   ]
  },
  {
   "cell_type": "code",
   "execution_count": 52,
   "metadata": {},
   "outputs": [
    {
     "data": {
      "text/plain": [
       "{'distance_matrix': [[0.0, 53.53, 117.15, 76.13, 102.99, 132.7],\n",
       "  [53.53, 0.0, 109.71, 79.49, 157.07, 169.49],\n",
       "  [117.15, 109.71, 0.0, 57.75, 187.27, 169.94],\n",
       "  [76.13, 79.49, 57.75, 0.0, 129.61, 112.28],\n",
       "  [102.99, 157.07, 187.27, 129.61, 0.0, 29.79],\n",
       "  [132.7, 169.49, 169.94, 112.28, 29.79, 0.0]],\n",
       " 'locations': ['Nochchiyagama',\n",
       "  'Medawachchiya',\n",
       "  'Medirigiriya',\n",
       "  'Dambulla',\n",
       "  'Chilaw',\n",
       "  'Walipennagahamula'],\n",
       " 'depot': 0,\n",
       " 'shop_demands': {'Nochchiyagama': 100,\n",
       "  'Medawachchiya': 120,\n",
       "  'Medirigiriya': 85,\n",
       "  'Dambulla': 150,\n",
       "  'Chilaw': 50,\n",
       "  'Walipennagahamula': 400},\n",
       " 'vehicle_capacities': [600, 400],\n",
       " 'vehicle_restricted_locations': {},\n",
       " 'vehicle_restricted_roads': {},\n",
       " 'same_route_locations': []}"
      ]
     },
     "execution_count": 52,
     "metadata": {},
     "output_type": "execute_result"
    }
   ],
   "source": [
    "data"
   ]
  },
  {
   "cell_type": "code",
   "execution_count": 65,
   "metadata": {},
   "outputs": [],
   "source": [
    "data['vehicle_capacities']= {'A':600, 'B': 500}"
   ]
  },
  {
   "cell_type": "code",
   "execution_count": 66,
   "metadata": {},
   "outputs": [
    {
     "data": {
      "text/plain": [
       "{'distance_matrix': [[0.0, 53.53, 117.15, 76.13, 102.99, 132.7],\n",
       "  [53.53, 0.0, 109.71, 79.49, 157.07, 169.49],\n",
       "  [117.15, 109.71, 0.0, 57.75, 187.27, 169.94],\n",
       "  [76.13, 79.49, 57.75, 0.0, 129.61, 112.28],\n",
       "  [102.99, 157.07, 187.27, 129.61, 0.0, 29.79],\n",
       "  [132.7, 169.49, 169.94, 112.28, 29.79, 0.0]],\n",
       " 'locations': ['Nochchiyagama',\n",
       "  'Medawachchiya',\n",
       "  'Medirigiriya',\n",
       "  'Dambulla',\n",
       "  'Chilaw',\n",
       "  'Walipennagahamula'],\n",
       " 'depot': 0,\n",
       " 'shop_demands': {'Nochchiyagama': 100,\n",
       "  'Medawachchiya': 120,\n",
       "  'Medirigiriya': 85,\n",
       "  'Dambulla': 150,\n",
       "  'Chilaw': 50,\n",
       "  'Walipennagahamula': 400},\n",
       " 'vehicle_capacities': {'A': 600, 'B': 500},\n",
       " 'vehicle_restricted_locations': {},\n",
       " 'vehicle_restricted_roads': {},\n",
       " 'same_route_locations': []}"
      ]
     },
     "execution_count": 66,
     "metadata": {},
     "output_type": "execute_result"
    }
   ],
   "source": [
    "data"
   ]
  },
  {
   "cell_type": "code",
   "execution_count": 67,
   "metadata": {},
   "outputs": [
    {
     "data": {
      "text/plain": [
       "2"
      ]
     },
     "execution_count": 67,
     "metadata": {},
     "output_type": "execute_result"
    }
   ],
   "source": [
    "len(data.get('vehicle_capacities'))"
   ]
  },
  {
   "cell_type": "code",
   "execution_count": 68,
   "metadata": {},
   "outputs": [
    {
     "data": {
      "text/plain": [
       "[600, 500]"
      ]
     },
     "execution_count": 68,
     "metadata": {},
     "output_type": "execute_result"
    }
   ],
   "source": [
    "list(data.get('vehicle_capacities').values())"
   ]
  },
  {
   "cell_type": "code",
   "execution_count": 71,
   "metadata": {},
   "outputs": [
    {
     "data": {
      "text/plain": [
       "{'routes': {'vehicle_0': {'vehicle_id': 0,\n",
       "   'route': [{'location': 'Nochchiyagama', 'current_load': 100},\n",
       "    {'location': 'Chilaw', 'current_load': 150},\n",
       "    {'location': 'Walipennagahamula', 'current_load': 550},\n",
       "    {'location': 'Nochchiyagama', 'current_load': 550}],\n",
       "   'total_distance': 263,\n",
       "   'total_load': 550},\n",
       "  'vehicle_1': {'vehicle_id': 1,\n",
       "   'route': [{'location': 'Nochchiyagama', 'current_load': 100},\n",
       "    {'location': 'Dambulla', 'current_load': 250},\n",
       "    {'location': 'Medirigiriya', 'current_load': 335},\n",
       "    {'location': 'Medawachchiya', 'current_load': 455},\n",
       "    {'location': 'Nochchiyagama', 'current_load': 455}],\n",
       "   'total_distance': 295,\n",
       "   'total_load': 455}},\n",
       " 'total_distance': 558,\n",
       " 'total_load': 1005}"
      ]
     },
     "execution_count": 71,
     "metadata": {},
     "output_type": "execute_result"
    }
   ],
   "source": [
    "get_vrp_solution(data)"
   ]
  },
  {
   "cell_type": "code",
   "execution_count": null,
   "metadata": {},
   "outputs": [],
   "source": []
  },
  {
   "cell_type": "code",
   "execution_count": null,
   "metadata": {},
   "outputs": [],
   "source": []
  }
 ],
 "metadata": {
  "kernelspec": {
   "display_name": ".venv",
   "language": "python",
   "name": "python3"
  },
  "language_info": {
   "codemirror_mode": {
    "name": "ipython",
    "version": 3
   },
   "file_extension": ".py",
   "mimetype": "text/x-python",
   "name": "python",
   "nbconvert_exporter": "python",
   "pygments_lexer": "ipython3",
   "version": "3.11.0"
  }
 },
 "nbformat": 4,
 "nbformat_minor": 2
}
